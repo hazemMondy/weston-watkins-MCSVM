{
 "cells": [
  {
   "cell_type": "code",
   "execution_count": 1,
   "metadata": {},
   "outputs": [],
   "source": [
    "\"\"\"imports\"\"\"\n",
    "import numpy as np\n",
    "import matplotlib.pyplot as plt\n",
    "from sklearn import decomposition\n",
    "from sklearn.preprocessing import StandardScaler\n",
    "import time\n",
    "import pandas as pd"
   ]
  },
  {
   "cell_type": "code",
   "execution_count": 3,
   "metadata": {},
   "outputs": [
    {
     "name": "stdout",
     "output_type": "stream",
     "text": [
      "<class 'pandas.core.frame.DataFrame'>\n",
      "RangeIndex: 199 entries, 0 to 198\n",
      "Data columns (total 8 columns):\n",
      " #   Column           Non-Null Count  Dtype  \n",
      "---  ------           --------------  -----  \n",
      " 0   Area             199 non-null    float64\n",
      " 1   Perimeter        199 non-null    float64\n",
      " 2   Compactness      199 non-null    float64\n",
      " 3   Kernel.Length    199 non-null    float64\n",
      " 4   Kernel.Width     199 non-null    float64\n",
      " 5   Asymmetry.Coeff  199 non-null    float64\n",
      " 6   Kernel.Groove    199 non-null    float64\n",
      " 7   Type             199 non-null    int64  \n",
      "dtypes: float64(7), int64(1)\n",
      "memory usage: 12.6 KB\n"
     ]
    }
   ],
   "source": [
    "data = pd.read_csv('C:\\\\Users\\\\oeb\\\\Desktop\\\\New folder\\\\neural\\\\mnist\\\\seeds.csv')\n",
    "data.info()"
   ]
  },
  {
   "cell_type": "code",
   "execution_count": 4,
   "metadata": {},
   "outputs": [
    {
     "data": {
      "text/plain": [
       "False"
      ]
     },
     "execution_count": 4,
     "metadata": {},
     "output_type": "execute_result"
    }
   ],
   "source": [
    "# Check if there are any null values\n",
    "data.isnull().values.any()\n",
    "\n",
    "# Remove null values\n",
    "data = data.dropna()\n",
    "\n",
    "# Check if there are any null values\n",
    "data.isnull().values.any()"
   ]
  },
  {
   "cell_type": "code",
   "execution_count": null,
   "metadata": {},
   "outputs": [],
   "source": [
    "from sklearn.model_selection import train_test_split\n",
    "X = data.iloc[:,0:7]\n",
    "y = data.iloc[:,7]\n",
    "y = np.array(y)\n",
    "y=y-1\n",
    "\n",
    "X_train, X_test, y_train, y_test = train_test_split(X, y, test_size=0.15, \n",
    "                                                            \n",
    "                                                            random_state=40, shuffle = True)\n",
    "\n",
    "X_train, X_val, y_train, y_val = train_test_split(X_train, y_train, test_size=0.1, \n",
    "                                                            \n",
    "                                                            random_state=40, shuffle = True)\n",
    "\n",
    "X_train = np.vstack((X_train.T, np.ones((X_train.shape[0])))).T\n",
    "X_val = np.vstack((X_val.T, np.ones((X_val.shape[0])))).T\n",
    "X_test = np.vstack((X_test.T, np.ones((X_test.shape[0])))).T\n",
    "\n",
    "X_test.shape, X_train.shape , X_val.shape"
   ]
  },
  {
   "cell_type": "markdown",
   "metadata": {},
   "source": [
    "# model functions"
   ]
  },
  {
   "cell_type": "code",
   "execution_count": 6,
   "metadata": {},
   "outputs": [],
   "source": [
    "def init_wights(hidden:int,inp:int):\n",
    "\n",
    "    W = np.random.normal(0,0.25,size=(hidden,inp+1))\n",
    "    #b = np.zeros((h1,1))\n",
    "    return W \n",
    "\n",
    "def forward(weights,X):\n",
    "\n",
    "    #z= weights.dot(x_train) + b\n",
    "    z= weights.dot(X) \n",
    "    return z\n",
    "\n",
    "def activation(z,y):\n",
    "\n",
    "    # cast the acual labels to use it in hinge loss \n",
    "    classes = z.shape[0]\n",
    "    o= (z.T * np.eye(classes)[y]).reshape(z.shape[1],z.shape[0]) \n",
    "    labels_vals = np.sum(o,axis=1)\n",
    "    labels_vals_casted = (np.ones(z.shape)*labels_vals)\n",
    "\n",
    "    #hinge loss weston watkins criterion\n",
    "    loss= np.maximum(1+z-labels_vals_casted,0)\n",
    "    return loss\n",
    "\n",
    "def back_prop(loss,X,y,features:int,classes:int):\n",
    "\n",
    "    # instead of indexing loss[label] = 0\n",
    "    # because i couldn't\n",
    "    loss = loss + -1.*np.ones_like(loss)\n",
    "    loss = loss>0.0\n",
    "    L = loss.T\n",
    "\n",
    "    # labels to index the weights\n",
    "    Y = np.eye(classes)[y]\n",
    "    Y = Y > 0.0\n",
    "    Y = Y.reshape(loss.shape[1],classes)\n",
    "\n",
    "    delta =  [ np.zeros( ( Y.shape[0] ,features) ) for  i in range(classes)] # as a 3d tensor (classes X )\n",
    "\n",
    "    s =np.sum(L[:,:],axis=1) #  number of other bigger prediction weights\n",
    "\n",
    "    for r,w_r in enumerate(delta):\n",
    "        p=X[:,L[:,r]].T\n",
    "        # weight was bigger than the correct label\n",
    "        w_r[ L[:,r] ] = X[:,L[:,r]].T\n",
    "        # correct label = -Xi * s\n",
    "        w_r[ Y[:,r] ]=  -1* X[:,Y[:,r]].T\\\n",
    "            * (s[Y[:,r]]).reshape(X[:,Y[:,r]].T.shape[0],1)\n",
    "    delta = np.sum(delta,axis=1)\n",
    "    return delta\n",
    "\n",
    "def predict(weights,x):\n",
    "\n",
    "    z= forward(weights, x)\n",
    "    d = np.argmax(1+z,axis=0)\n",
    "    return d\n",
    "\n",
    "def accuracy(weights,x_train,y_train,x_test,y_test)-> (float,float):\n",
    "\n",
    "    # over complexing the acc for plagiarism\n",
    "    out = predict(weights, x_train)\n",
    "    out_test = predict(weights, x_test)\n",
    "    pred = out - y_train\n",
    "    pred = np.absolute(pred)\n",
    "    pred = (pred == 0.0)\n",
    "    train_acc = np.sum(pred) / len(out)\n",
    "    pred = out_test - y_test\n",
    "    pred = np.absolute(pred)\n",
    "    pred = (pred == 0.0)\n",
    "    test_acc = np.sum(pred) / len(out_test)\n",
    "    return train_acc*100 , test_acc*100\n",
    "\n",
    "def mini_patcher(X,Y,batch_size:int=100):  \n",
    "\n",
    "    m = X.shape[1]\n",
    "    mini_batches = []\n",
    "    num_complete_minibatches = (m // batch_size) \n",
    "    # Shuffle (X, Y)\n",
    "    x = np.array(X).reshape(X.shape[0],m)\n",
    "    Y = np.array(Y).reshape(1,m)\n",
    "    permutation = list(np.random.permutation(m))\n",
    "    shuffled_X = x[:, permutation]\n",
    "    shuffled_Y = Y[:, permutation].reshape((1, m))\n",
    "    \n",
    "    mini_batch_X = []\n",
    "    mini_batch_Y = []\n",
    "    for k in range(0, num_complete_minibatches):\n",
    "        mini_batch_x = shuffled_X[ :, batch_size* k :batch_size* (k + 1)]\n",
    "        mini_batch_y = shuffled_Y[ :, batch_size* k :batch_size* (k + 1)]\n",
    "        mini_batch_X.append(mini_batch_x)\n",
    "        mini_batch_Y.append(mini_batch_y.reshape(batch_size))\n",
    "    return mini_batch_X , mini_batch_Y\n",
    "\n",
    "def epoch(iterations:int,weights,x_train,y_train, x_test, y_test,v:float,s:float,t:int=0,optimizer=\"gd\",alpha:float= 0.0001,lambd:float = 0):\n",
    "    \n",
    "    costs, acc_train, acc_test= [],[],[]\n",
    "    m = x_train.shape[1]\n",
    "    #lambd = 0.5\n",
    "\n",
    "    for i in range (iterations):\n",
    "        acc_x ,acc_y = accuracy(weights, x_train, y_train, x_test, y_test)\n",
    "        acc_train.append(acc_x) , acc_test.append(acc_y)\n",
    "\n",
    "        # L2 reg\n",
    "        #reg_lambda = np.linalg.norm(weights)\n",
    "        reg_lambda = np.sum(weights,axis=0)\n",
    "        reg_cost = (lambd/(2*m))*(np.sum(np.square(weights))) \n",
    "\n",
    "        z = forward(weights, x_train)\n",
    "        loss = activation(z, y_train)\n",
    "        deltas = back_prop(loss,x_train,y_train,weights.T.shape[0], weights.T.shape[1])   \n",
    "        \n",
    "        #db = np.sum(deltas, axis=1, keepdims = True)\n",
    "        deltas += (lambd*weights)/m   \n",
    "        if optimizer.lower() == \"adam\":\n",
    "            t += 1\n",
    "            weights, v, s, _, _ =update_parameters_with_momentum(weights,\n",
    "             deltas, v, s, t, alpha=alpha)  \n",
    "            #b, v, s, _, _ =update_parameters_with_momentum(b,db, vb,sb, t, alpha=alpha/10)  \n",
    "        else:\n",
    "            weights = weights - alpha * deltas/m\n",
    "            #b += -(alpha**2)*(1./m) * db   \n",
    "        costs.append(np.linalg.norm(deltas)/m + reg_cost)\n",
    "    return weights , costs , acc_train, acc_test\n",
    "\n",
    "def epoch_minpatch(iterations:int,weights,x_train,y_train, x_test, y_test,optimizer:str=\"gd\",alpha:float= 0.00001,batch_size:int=100,lambd:float = 0):\n",
    "\n",
    "    x_train_list , y_train_list = mini_patcher(x_train, y_train,batch_size=batch_size)\n",
    "    costs,X_acc , Y_acc =[], [], []\n",
    "    t=0\n",
    "    v,s = initialize_adam(weights=weights)\n",
    "    #vb,sb = initialize_adam(weights=b)\n",
    "    for i in range(iterations):\n",
    "        for i,val in enumerate(x_train_list):\n",
    "            weights, cost , x_acc , y_acc =epoch(1, weights,\n",
    "                                                val, y_train_list[i] ,\n",
    "                                                x_test, y_test,\n",
    "                                                v,s,\n",
    "                                                t=t,\n",
    "                                                optimizer=optimizer,\n",
    "                                                alpha=alpha,\n",
    "                                                lambd= lambd)\n",
    "            costs += cost\n",
    "            X_acc += x_acc\n",
    "            Y_acc += y_acc\n",
    "    return weights , costs , X_acc , Y_acc \n",
    "\n",
    "def eval(x:list,y:list,cost:list,text1='train acc',text2='test acc' ):\n",
    "\n",
    "    fig, (ax1,ax2) = plt.subplots(nrows=2,ncols=1,figsize=(16,8))\n",
    "    ax1.plot(cost);\n",
    "    ax1.set_title('cost vs epoches')\n",
    "    ax1.set_ylabel('cost')\n",
    "    ax2.plot(x);\n",
    "    ax2.plot(y);\n",
    "    plt.legend([text1,text2]);\n",
    "    ax2.set_xlabel('number of epoches')\n",
    "    ax2.set_ylabel('accuracy %')\n",
    "    ax2.set_title('accuracy vs epoches');\n",
    "\n",
    "def plotter(x:list,y:list)->None:\n",
    "\n",
    "    plt.plot(x);\n",
    "    plt.plot(y);\n",
    "    plt.legend(['train acc','test acc']);\n",
    "    plt.show();\n",
    "\n",
    "def initialize_adam(weights):\n",
    "    \n",
    "    v = np.zeros_like(weights)\n",
    "    s = np.zeros_like(weights)\n",
    "    return v ,s\n",
    "\n",
    "def update_parameters_with_momentum(weights, grads, v,s, t, alpha,\n",
    "                                    beta1 = 0.9, beta2 = 0.999,\n",
    "                                    epsilon = 1e-8):\n",
    "\n",
    "    v = beta1 * v + (1- beta1) * grads\n",
    "    v_correct = v / (1- beta1** t)\n",
    "    s = beta2 * s + (1- beta2) * grads**2\n",
    "    s_correct = s / (1- beta2** t)\n",
    "    weights = weights -alpha*v_correct / (np.sqrt(s_correct)+epsilon)\n",
    "\n",
    "    return weights, v, s, v_correct, s_correct"
   ]
  },
  {
   "cell_type": "markdown",
   "metadata": {},
   "source": [
    "# no reg \n",
    "batch training"
   ]
  },
  {
   "cell_type": "code",
   "execution_count": 33,
   "metadata": {},
   "outputs": [
    {
     "data": {
      "image/png": "[encoded data removed]",
      "text/plain": [
       "<Figure size 1152x576 with 2 Axes>"
      ]
     },
     "metadata": {
      "needs_background": "light"
     },
     "output_type": "display_data"
    }
   ],
   "source": [
    "weights= init_wights(3, 7)\n",
    "weights , costs , train_acc , test_acc = epoch_minpatch(10*1000, weights,\n",
    "                                                         X_train.T, y_train.T,\n",
    "                                                          X_dev.T, y_val.T,\n",
    "                                                            optimizer=\"adam\"\n",
    "                                                            ,alpha=0.00007,batch_size=150,\n",
    "                                                          )\n",
    "eval(train_acc, test_acc, costs)"
   ]
  },
  {
   "cell_type": "code",
   "execution_count": 34,
   "metadata": {},
   "outputs": [
    {
     "data": {
      "text/plain": [
       "(98.0, 100.0)"
      ]
     },
     "execution_count": 34,
     "metadata": {},
     "output_type": "execute_result"
    }
   ],
   "source": [
    "max(train_acc),max(test_acc)"
   ]
  },
  {
   "cell_type": "code",
   "execution_count": 35,
   "metadata": {},
   "outputs": [
    {
     "data": {
      "text/plain": [
       "(97.33333333333334, 146)"
      ]
     },
     "execution_count": 35,
     "metadata": {},
     "output_type": "execute_result"
    }
   ],
   "source": [
    "pred= predict(weights, x_train.T)\n",
    "testing_acc = np.sum(pred==y_train) / len(pred)\n",
    "testing_acc *100 , np.sum(pred==y_train)"
   ]
  },
  {
   "cell_type": "code",
   "execution_count": 36,
   "metadata": {},
   "outputs": [
    {
     "data": {
      "text/plain": [
       "(79.3103448275862, 23)"
      ]
     },
     "execution_count": 36,
     "metadata": {},
     "output_type": "execute_result"
    }
   ],
   "source": [
    "pred= predict(weights, x_test.T)\n",
    "testing_acc = np.sum(pred==y_test) / len(pred)\n",
    "testing_acc *100 , np.sum(pred==y_test)"
   ]
  },
  {
   "cell_type": "markdown",
   "metadata": {},
   "source": [
    "### try with reg"
   ]
  },
  {
   "cell_type": "code",
   "execution_count": 148,
   "metadata": {},
   "outputs": [
    {
     "data": {
      "image/png": "[encoded data removed]",
      "text/plain": [
       "<Figure size 1152x576 with 2 Axes>"
      ]
     },
     "metadata": {
      "needs_background": "light"
     },
     "output_type": "display_data"
    }
   ],
   "source": [
    "weights= init_wights(3, 7)\n",
    "weights , costs , train_acc , test_acc = epoch_minpatch(10*1000, weights,\n",
    "                                                         X_train.T, y_train.T,\n",
    "                                                          X_val.T, y_val.T,\n",
    "                                                            optimizer=\"adam\"\n",
    "                                                            ,alpha=0.00007,batch_size=150,lambd=0.08\n",
    "                                                          )\n",
    "eval(train_acc, test_acc, costs)"
   ]
  },
  {
   "cell_type": "code",
   "execution_count": 149,
   "metadata": {},
   "outputs": [
    {
     "data": {
      "text/plain": [
       "(96.71052631578947, 147)"
      ]
     },
     "execution_count": 149,
     "metadata": {},
     "output_type": "execute_result"
    }
   ],
   "source": [
    "pred= predict(weights, X_train.T)\n",
    "testing_acc = np.sum(pred==y_train) / len(pred)\n",
    "testing_acc *100 , np.sum(pred==y_train)"
   ]
  },
  {
   "cell_type": "code",
   "execution_count": 150,
   "metadata": {},
   "outputs": [
    {
     "data": {
      "text/plain": [
       "(86.66666666666667, 26)"
      ]
     },
     "execution_count": 150,
     "metadata": {},
     "output_type": "execute_result"
    }
   ],
   "source": [
    "pred= predict(weights, X_test.T)\n",
    "testing_acc = np.sum(pred==y_test) / len(pred)\n",
    "testing_acc *100 , np.sum(pred==y_test)"
   ]
  }
 ],
 "metadata": {
  "interpreter": {
   "hash": "9857971b99e43fad45486e0e982a1a1e1fda66e1a8f174fe10bae65b201ddc2b"
  },
  "kernelspec": {
   "display_name": "Python 3.9.2 64-bit",
   "language": "python",
   "name": "python3"
  },
  "language_info": {
   "codemirror_mode": {
    "name": "ipython",
    "version": 3
   },
   "file_extension": ".py",
   "mimetype": "text/x-python",
   "name": "python",
   "nbconvert_exporter": "python",
   "pygments_lexer": "ipython3",
   "version": "3.9.2"
  },
  "orig_nbformat": 4
 },
 "nbformat": 4,
 "nbformat_minor": 2
}
